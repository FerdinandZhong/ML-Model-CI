{
 "metadata": {
  "language_info": {
   "codemirror_mode": {
    "name": "ipython",
    "version": 3
   },
   "file_extension": ".py",
   "mimetype": "text/x-python",
   "name": "python",
   "nbconvert_exporter": "python",
   "pygments_lexer": "ipython3",
   "version": "3.7.7-final"
  },
  "orig_nbformat": 2,
  "kernelspec": {
   "name": "python3",
   "display_name": "Python 3.7.7 64-bit ('modelci': conda)",
   "metadata": {
    "interpreter": {
     "hash": "c50a05bb497594c0bc31527bf55a05592e27b3d7a0a143acd08dceef0e91886f"
    }
   }
  }
 },
 "nbformat": 4,
 "nbformat_minor": 2,
 "cells": [
  {
   "source": [
    "# A getting started tutorial of ModelCI installation, Register and convert Model\n",
    "\n",
    "This is a getting started tutorial for those who are new to ML-ModelCI, including the following steps:\n",
    "\n",
    "- Setting up environment\n",
    "- Starting ModelCI service.\n",
    "- Loading a pretrained resnet50 model from torchvision.\n",
    "- Register this model into modelHub.\n",
    "\n",
    "  The converter will automatically convert this PyTorch format model into 2 model : a Open Neural Network eXchange (ONNX) format model and a TorchScipt format model\n",
    "\n",
    "- Converting the ONNX format model into TensorRT format manually.\n",
    "- Stopping ModelCI service.\n",
    "\n",
    "## 1. Installation\n",
    "\n",
    "Make sure [conda]() and [docker]() are installed before this tutorial, and docker service has already started.\n",
    "\n",
    "Besides, you should create modelci conda environment based on yml file \n",
    "\n",
    "```shell\n",
    "# create conda environment based on given yml file\n",
    "wget -q https://raw.githubusercontent.com/cap-ntu/ML-Model-CI/master/environment.yml\n",
    "conda env create -f environment.yml\n",
    "```\n",
    "\n",
    "And starting this Jupyter Notebook in modelci conda environment.\n",
    "\n",
    "Then we can install the ModelCI python package based on <https://github.com/cap-ntu/ML-Model-CI#using-pip>."
   ],
   "cell_type": "markdown",
   "metadata": {}
  },
  {
   "cell_type": "code",
   "execution_count": 1,
   "metadata": {
    "tags": [
     "outputPrepend"
    ]
   },
   "outputs": [
    {
     "output_type": "stream",
     "name": "stdout",
     "text": [
      "3/envs/modelci/lib/python3.7/site-packages (from modelci==1.0.0) (1.18.5)\nRequirement already satisfied: attrs>=17.4.0 in /home/sherry/project/miniconda3/envs/modelci/lib/python3.7/site-packages (from pytest>=5.4.1->modelci==1.0.0) (20.2.0)\nRequirement already satisfied: iniconfig in /home/sherry/project/miniconda3/envs/modelci/lib/python3.7/site-packages (from pytest>=5.4.1->modelci==1.0.0) (1.1.1)\nRequirement already satisfied: packaging in /home/sherry/project/miniconda3/envs/modelci/lib/python3.7/site-packages (from pytest>=5.4.1->modelci==1.0.0) (20.4)\nRequirement already satisfied: pluggy<1.0,>=0.12 in /home/sherry/project/miniconda3/envs/modelci/lib/python3.7/site-packages (from pytest>=5.4.1->modelci==1.0.0) (0.13.1)\nRequirement already satisfied: py>=1.8.2 in /home/sherry/project/miniconda3/envs/modelci/lib/python3.7/site-packages (from pytest>=5.4.1->modelci==1.0.0) (1.9.0)\nRequirement already satisfied: toml in /home/sherry/project/miniconda3/envs/modelci/lib/python3.7/site-packages (from pytest>=5.4.1->modelci==1.0.0) (0.10.1)\nRequirement already satisfied: importlib-metadata>=0.12 in /home/sherry/project/miniconda3/envs/modelci/lib/python3.7/site-packages (from pytest>=5.4.1->modelci==1.0.0) (2.0.0)\nRequirement already satisfied: pytest>=5.4.1 in /home/sherry/project/miniconda3/envs/modelci/lib/python3.7/site-packages (from modelci==1.0.0) (6.1.2)\nRequirement already satisfied: certifi>=2017.4.17 in /home/sherry/project/miniconda3/envs/modelci/lib/python3.7/site-packages (from requests>=2.23.0->modelci==1.0.0) (2020.11.8)\nRequirement already satisfied: idna<3,>=2.5 in /home/sherry/project/miniconda3/envs/modelci/lib/python3.7/site-packages (from requests>=2.23.0->modelci==1.0.0) (2.10)\nRequirement already satisfied: urllib3!=1.25.0,!=1.25.1,<1.26,>=1.21.1 in /home/sherry/project/miniconda3/envs/modelci/lib/python3.7/site-packages (from requests>=2.23.0->modelci==1.0.0) (1.25.11)\nRequirement already satisfied: chardet<4,>=3.0.2 in /home/sherry/project/miniconda3/envs/modelci/lib/python3.7/site-packages (from requests>=2.23.0->modelci==1.0.0) (3.0.4)\nRequirement already satisfied: pygments<3.0.0,>=2.6.0 in /home/sherry/project/miniconda3/envs/modelci/lib/python3.7/site-packages (from rich==9.1.0->modelci==1.0.0) (2.7.2)\nRequirement already satisfied: typing-extensions>=3.6.2.1 in /home/sherry/project/miniconda3/envs/modelci/lib/python3.7/site-packages (from onnx==1.6.0->modelci==1.0.0) (3.7.4.3)\nRequirement already satisfied: colorama<0.5.0,>=0.4.0 in /home/sherry/project/miniconda3/envs/modelci/lib/python3.7/site-packages (from rich==9.1.0->modelci==1.0.0) (0.4.4)\nRequirement already satisfied: commonmark<0.10.0,>=0.9.0 in /home/sherry/project/miniconda3/envs/modelci/lib/python3.7/site-packages (from rich==9.1.0->modelci==1.0.0) (0.9.1)\nRequirement already satisfied: scipy in /home/sherry/project/miniconda3/envs/modelci/lib/python3.7/site-packages (from lightgbm==2.3.0->modelci==1.0.0) (1.4.1)\nRequirement already satisfied: joblib>=0.11 in /home/sherry/project/miniconda3/envs/modelci/lib/python3.7/site-packages (from scikit-learn==0.23.2->modelci==1.0.0) (0.17.0)\nRequirement already satisfied: numpy<1.19.0,>=1.16.0 in /home/sherry/project/miniconda3/envs/modelci/lib/python3.7/site-packages (from modelci==1.0.0) (1.18.5)\nRequirement already satisfied: threadpoolctl>=2.0.0 in /home/sherry/project/miniconda3/envs/modelci/lib/python3.7/site-packages (from scikit-learn==0.23.2->modelci==1.0.0) (2.1.0)\nRequirement already satisfied: astunparse==1.6.3 in /home/sherry/project/miniconda3/envs/modelci/lib/python3.7/site-packages (from tensorflow>=2.1.2->modelci==1.0.0) (1.6.3)\nRequirement already satisfied: numpy<1.19.0,>=1.16.0 in /home/sherry/project/miniconda3/envs/modelci/lib/python3.7/site-packages (from modelci==1.0.0) (1.18.5)\nRequirement already satisfied: protobuf in /home/sherry/project/miniconda3/envs/modelci/lib/python3.7/site-packages (from onnx==1.6.0->modelci==1.0.0) (3.14.0)\nRequirement already satisfied: opt-einsum>=2.3.2 in /home/sherry/project/miniconda3/envs/modelci/lib/python3.7/site-packages (from tensorflow>=2.1.2->modelci==1.0.0) (3.3.0)\nRequirement already satisfied: six>=1.4.0 in /home/sherry/project/miniconda3/envs/modelci/lib/python3.7/site-packages (from docker>=4.2.0->modelci==1.0.0) (1.15.0)\nRequirement already satisfied: tensorflow-estimator<2.4.0,>=2.3.0 in /home/sherry/project/miniconda3/envs/modelci/lib/python3.7/site-packages (from tensorflow>=2.1.2->modelci==1.0.0) (2.3.0)\nRequirement already satisfied: absl-py>=0.7.0 in /home/sherry/project/miniconda3/envs/modelci/lib/python3.7/site-packages (from tensorflow>=2.1.2->modelci==1.0.0) (0.11.0)\nRequirement already satisfied: grpcio>=1.27.2 in /home/sherry/project/miniconda3/envs/modelci/lib/python3.7/site-packages (from modelci==1.0.0) (1.31.0)\nRequirement already satisfied: termcolor>=1.1.0 in /home/sherry/project/miniconda3/envs/modelci/lib/python3.7/site-packages (from tensorflow>=2.1.2->modelci==1.0.0) (1.1.0)\nRequirement already satisfied: google-pasta>=0.1.8 in /home/sherry/project/miniconda3/envs/modelci/lib/python3.7/site-packages (from tensorflow>=2.1.2->modelci==1.0.0) (0.2.0)\nRequirement already satisfied: keras-preprocessing<1.2,>=1.1.1 in /home/sherry/project/miniconda3/envs/modelci/lib/python3.7/site-packages (from tensorflow>=2.1.2->modelci==1.0.0) (1.1.2)\nRequirement already satisfied: wheel>=0.26 in /home/sherry/project/miniconda3/envs/modelci/lib/python3.7/site-packages (from tensorflow>=2.1.2->modelci==1.0.0) (0.35.1)\nRequirement already satisfied: wrapt>=1.11.1 in /home/sherry/project/miniconda3/envs/modelci/lib/python3.7/site-packages (from tensorflow>=2.1.2->modelci==1.0.0) (1.12.1)\nRequirement already satisfied: gast==0.3.3 in /home/sherry/project/miniconda3/envs/modelci/lib/python3.7/site-packages (from tensorflow>=2.1.2->modelci==1.0.0) (0.3.3)\nRequirement already satisfied: tensorboard<3,>=2.3.0 in /home/sherry/project/miniconda3/envs/modelci/lib/python3.7/site-packages (from tensorflow>=2.1.2->modelci==1.0.0) (2.4.0)\nRequirement already satisfied: h5py<2.11.0,>=2.10.0 in /home/sherry/project/miniconda3/envs/modelci/lib/python3.7/site-packages (from tensorflow>=2.1.2->modelci==1.0.0) (2.10.0)\nRequirement already satisfied: numpy<1.19.0,>=1.16.0 in /home/sherry/project/miniconda3/envs/modelci/lib/python3.7/site-packages (from modelci==1.0.0) (1.18.5)\nRequirement already satisfied: torch>=1.5.0 in /home/sherry/project/miniconda3/envs/modelci/lib/python3.7/site-packages (from modelci==1.0.0) (1.7.0)\nRequirement already satisfied: pillow>=4.1.1 in /home/sherry/project/miniconda3/envs/modelci/lib/python3.7/site-packages (from torchvision>=0.6.0->modelci==1.0.0) (8.0.1)\nRequirement already satisfied: grpcio>=1.27.2 in /home/sherry/project/miniconda3/envs/modelci/lib/python3.7/site-packages (from modelci==1.0.0) (1.31.0)\nRequirement already satisfied: protobuf in /home/sherry/project/miniconda3/envs/modelci/lib/python3.7/site-packages (from onnx==1.6.0->modelci==1.0.0) (3.14.0)\nRequirement already satisfied: tensorflow>=2.1.2 in /home/sherry/project/miniconda3/envs/modelci/lib/python3.7/site-packages (from modelci==1.0.0) (2.3.1)\nRequirement already satisfied: typing-extensions>=3.6.2.1 in /home/sherry/project/miniconda3/envs/modelci/lib/python3.7/site-packages (from onnx==1.6.0->modelci==1.0.0) (3.7.4.3)\nRequirement already satisfied: numpy<1.19.0,>=1.16.0 in /home/sherry/project/miniconda3/envs/modelci/lib/python3.7/site-packages (from modelci==1.0.0) (1.18.5)\nRequirement already satisfied: future in /home/sherry/project/miniconda3/envs/modelci/lib/python3.7/site-packages (from torch>=1.5.0->modelci==1.0.0) (0.18.2)\nRequirement already satisfied: dataclasses in /home/sherry/project/miniconda3/envs/modelci/lib/python3.7/site-packages (from torch>=1.5.0->modelci==1.0.0) (0.6)\nRequirement already satisfied: h11>=0.8 in /home/sherry/project/miniconda3/envs/modelci/lib/python3.7/site-packages (from uvicorn>=0.11.5->modelci==1.0.0) (0.9.0)\nRequirement already satisfied: click==7.1.2 in /home/sherry/project/miniconda3/envs/modelci/lib/python3.7/site-packages (from modelci==1.0.0) (7.1.2)\nRequirement already satisfied: typing-extensions>=3.6.2.1 in /home/sherry/project/miniconda3/envs/modelci/lib/python3.7/site-packages (from onnx==1.6.0->modelci==1.0.0) (3.7.4.3)\nRequirement already satisfied: numpy<1.19.0,>=1.16.0 in /home/sherry/project/miniconda3/envs/modelci/lib/python3.7/site-packages (from modelci==1.0.0) (1.18.5)\nRequirement already satisfied: scipy in /home/sherry/project/miniconda3/envs/modelci/lib/python3.7/site-packages (from lightgbm==2.3.0->modelci==1.0.0) (1.4.1)\nRequirement already satisfied: MarkupSafe>=0.23 in /home/sherry/project/miniconda3/envs/modelci/lib/python3.7/site-packages (from Jinja2==2.11.2->modelci==1.0.0) (1.1.1)\nRequirement already satisfied: h2<5,>=3.1.0 in /home/sherry/project/miniconda3/envs/modelci/lib/python3.7/site-packages (from grpclib->betterproto>=1.2.3->modelci==1.0.0) (4.0.0)\nRequirement already satisfied: multidict in /home/sherry/project/miniconda3/envs/modelci/lib/python3.7/site-packages (from grpclib->betterproto>=1.2.3->modelci==1.0.0) (4.7.6)\nRequirement already satisfied: six>=1.4.0 in /home/sherry/project/miniconda3/envs/modelci/lib/python3.7/site-packages (from docker>=4.2.0->modelci==1.0.0) (1.15.0)\nRequirement already satisfied: numpy<1.19.0,>=1.16.0 in /home/sherry/project/miniconda3/envs/modelci/lib/python3.7/site-packages (from modelci==1.0.0) (1.18.5)\nRequirement already satisfied: six>=1.4.0 in /home/sherry/project/miniconda3/envs/modelci/lib/python3.7/site-packages (from docker>=4.2.0->modelci==1.0.0) (1.15.0)\nRequirement already satisfied: onnxconverter-common>=1.6.0 in /home/sherry/project/miniconda3/envs/modelci/lib/python3.7/site-packages (from modelci==1.0.0) (1.7.0)\nRequirement already satisfied: onnx==1.6.0 in /home/sherry/project/miniconda3/envs/modelci/lib/python3.7/site-packages (from modelci==1.0.0) (1.6.0)\nRequirement already satisfied: scikit-learn==0.23.2 in /home/sherry/project/miniconda3/envs/modelci/lib/python3.7/site-packages (from modelci==1.0.0) (0.23.2)\nRequirement already satisfied: six>=1.4.0 in /home/sherry/project/miniconda3/envs/modelci/lib/python3.7/site-packages (from docker>=4.2.0->modelci==1.0.0) (1.15.0)\nRequirement already satisfied: scipy in /home/sherry/project/miniconda3/envs/modelci/lib/python3.7/site-packages (from lightgbm==2.3.0->modelci==1.0.0) (1.4.1)\nRequirement already satisfied: protobuf in /home/sherry/project/miniconda3/envs/modelci/lib/python3.7/site-packages (from onnx==1.6.0->modelci==1.0.0) (3.14.0)\nRequirement already satisfied: numpy<1.19.0,>=1.16.0 in /home/sherry/project/miniconda3/envs/modelci/lib/python3.7/site-packages (from modelci==1.0.0) (1.18.5)\nRequirement already satisfied: onnxconverter-common>=1.6.0 in /home/sherry/project/miniconda3/envs/modelci/lib/python3.7/site-packages (from modelci==1.0.0) (1.7.0)\nRequirement already satisfied: requests>=2.23.0 in /home/sherry/project/miniconda3/envs/modelci/lib/python3.7/site-packages (from modelci==1.0.0) (2.23.0)\nRequirement already satisfied: fire in /home/sherry/project/miniconda3/envs/modelci/lib/python3.7/site-packages (from keras2onnx->onnxmltools>=1.6.0->modelci==1.0.0) (0.3.1)\nRequirement already satisfied: onnx==1.6.0 in /home/sherry/project/miniconda3/envs/modelci/lib/python3.7/site-packages (from modelci==1.0.0) (1.6.0)\nRequirement already satisfied: numpy<1.19.0,>=1.16.0 in /home/sherry/project/miniconda3/envs/modelci/lib/python3.7/site-packages (from modelci==1.0.0) (1.18.5)\nRequirement already satisfied: protobuf in /home/sherry/project/miniconda3/envs/modelci/lib/python3.7/site-packages (from onnx==1.6.0->modelci==1.0.0) (3.14.0)\nRequirement already satisfied: six>=1.4.0 in /home/sherry/project/miniconda3/envs/modelci/lib/python3.7/site-packages (from docker>=4.2.0->modelci==1.0.0) (1.15.0)\nRequirement already satisfied: pyparsing>=2.0.2 in /home/sherry/project/miniconda3/envs/modelci/lib/python3.7/site-packages (from packaging->pytest>=5.4.1->modelci==1.0.0) (2.4.7)\nRequirement already satisfied: importlib-metadata>=0.12 in /home/sherry/project/miniconda3/envs/modelci/lib/python3.7/site-packages (from pytest>=5.4.1->modelci==1.0.0) (2.0.0)\nRequirement already satisfied: zipp>=0.5 in /home/sherry/project/miniconda3/envs/modelci/lib/python3.7/site-packages (from importlib-metadata>=0.12->pytest>=5.4.1->modelci==1.0.0) (3.4.0)\nRequirement already satisfied: wheel>=0.26 in /home/sherry/project/miniconda3/envs/modelci/lib/python3.7/site-packages (from tensorflow>=2.1.2->modelci==1.0.0) (0.35.1)\nRequirement already satisfied: six>=1.4.0 in /home/sherry/project/miniconda3/envs/modelci/lib/python3.7/site-packages (from docker>=4.2.0->modelci==1.0.0) (1.15.0)\nRequirement already satisfied: numpy<1.19.0,>=1.16.0 in /home/sherry/project/miniconda3/envs/modelci/lib/python3.7/site-packages (from modelci==1.0.0) (1.18.5)\nRequirement already satisfied: six>=1.4.0 in /home/sherry/project/miniconda3/envs/modelci/lib/python3.7/site-packages (from docker>=4.2.0->modelci==1.0.0) (1.15.0)\nRequirement already satisfied: six>=1.4.0 in /home/sherry/project/miniconda3/envs/modelci/lib/python3.7/site-packages (from docker>=4.2.0->modelci==1.0.0) (1.15.0)\nRequirement already satisfied: six>=1.4.0 in /home/sherry/project/miniconda3/envs/modelci/lib/python3.7/site-packages (from docker>=4.2.0->modelci==1.0.0) (1.15.0)\nRequirement already satisfied: numpy<1.19.0,>=1.16.0 in /home/sherry/project/miniconda3/envs/modelci/lib/python3.7/site-packages (from modelci==1.0.0) (1.18.5)\nRequirement already satisfied: requests>=2.23.0 in /home/sherry/project/miniconda3/envs/modelci/lib/python3.7/site-packages (from modelci==1.0.0) (2.23.0)\nRequirement already satisfied: tensorboard-plugin-wit>=1.6.0 in /home/sherry/project/miniconda3/envs/modelci/lib/python3.7/site-packages (from tensorboard<3,>=2.3.0->tensorflow>=2.1.2->modelci==1.0.0) (1.6.0.post3)\nRequirement already satisfied: numpy<1.19.0,>=1.16.0 in /home/sherry/project/miniconda3/envs/modelci/lib/python3.7/site-packages (from modelci==1.0.0) (1.18.5)\nRequirement already satisfied: grpcio>=1.27.2 in /home/sherry/project/miniconda3/envs/modelci/lib/python3.7/site-packages (from modelci==1.0.0) (1.31.0)\nRequirement already satisfied: absl-py>=0.7.0 in /home/sherry/project/miniconda3/envs/modelci/lib/python3.7/site-packages (from tensorflow>=2.1.2->modelci==1.0.0) (0.11.0)\nRequirement already satisfied: protobuf in /home/sherry/project/miniconda3/envs/modelci/lib/python3.7/site-packages (from onnx==1.6.0->modelci==1.0.0) (3.14.0)\nRequirement already satisfied: werkzeug>=0.11.15 in /home/sherry/project/miniconda3/envs/modelci/lib/python3.7/site-packages (from tensorboard<3,>=2.3.0->tensorflow>=2.1.2->modelci==1.0.0) (1.0.1)\nRequirement already satisfied: google-auth<2,>=1.6.3 in /home/sherry/project/miniconda3/envs/modelci/lib/python3.7/site-packages (from tensorboard<3,>=2.3.0->tensorflow>=2.1.2->modelci==1.0.0) (1.23.0)\nRequirement already satisfied: six>=1.4.0 in /home/sherry/project/miniconda3/envs/modelci/lib/python3.7/site-packages (from docker>=4.2.0->modelci==1.0.0) (1.15.0)\nRequirement already satisfied: wheel>=0.26 in /home/sherry/project/miniconda3/envs/modelci/lib/python3.7/site-packages (from tensorflow>=2.1.2->modelci==1.0.0) (0.35.1)\nRequirement already satisfied: markdown>=2.6.8 in /home/sherry/project/miniconda3/envs/modelci/lib/python3.7/site-packages (from tensorboard<3,>=2.3.0->tensorflow>=2.1.2->modelci==1.0.0) (3.3.2)\nRequirement already satisfied: google-auth-oauthlib<0.5,>=0.4.1 in /home/sherry/project/miniconda3/envs/modelci/lib/python3.7/site-packages (from tensorboard<3,>=2.3.0->tensorflow>=2.1.2->modelci==1.0.0) (0.4.2)\nRequirement already satisfied: setuptools>=46.4.0 in /home/sherry/project/miniconda3/envs/modelci/lib/python3.7/site-packages (from modelci==1.0.0) (50.3.0.post20201103)\nRequirement already satisfied: six>=1.4.0 in /home/sherry/project/miniconda3/envs/modelci/lib/python3.7/site-packages (from docker>=4.2.0->modelci==1.0.0) (1.15.0)\nRequirement already satisfied: numpy<1.19.0,>=1.16.0 in /home/sherry/project/miniconda3/envs/modelci/lib/python3.7/site-packages (from modelci==1.0.0) (1.18.5)\nRequirement already satisfied: hpack<5,>=4.0 in /home/sherry/project/miniconda3/envs/modelci/lib/python3.7/site-packages (from h2<5,>=3.1.0->grpclib->betterproto>=1.2.3->modelci==1.0.0) (4.0.0)\nRequirement already satisfied: hyperframe<7,>=6.0 in /home/sherry/project/miniconda3/envs/modelci/lib/python3.7/site-packages (from h2<5,>=3.1.0->grpclib->betterproto>=1.2.3->modelci==1.0.0) (6.0.0)\nRequirement already satisfied: termcolor>=1.1.0 in /home/sherry/project/miniconda3/envs/modelci/lib/python3.7/site-packages (from tensorflow>=2.1.2->modelci==1.0.0) (1.1.0)\nRequirement already satisfied: six>=1.4.0 in /home/sherry/project/miniconda3/envs/modelci/lib/python3.7/site-packages (from docker>=4.2.0->modelci==1.0.0) (1.15.0)\nRequirement already satisfied: rsa<5,>=3.1.4 in /home/sherry/project/miniconda3/envs/modelci/lib/python3.7/site-packages (from google-auth<2,>=1.6.3->tensorboard<3,>=2.3.0->tensorflow>=2.1.2->modelci==1.0.0) (4.6)\nRequirement already satisfied: setuptools>=46.4.0 in /home/sherry/project/miniconda3/envs/modelci/lib/python3.7/site-packages (from modelci==1.0.0) (50.3.0.post20201103)\nRequirement already satisfied: six>=1.4.0 in /home/sherry/project/miniconda3/envs/modelci/lib/python3.7/site-packages (from docker>=4.2.0->modelci==1.0.0) (1.15.0)\nRequirement already satisfied: cachetools<5.0,>=2.0.0 in /home/sherry/project/miniconda3/envs/modelci/lib/python3.7/site-packages (from google-auth<2,>=1.6.3->tensorboard<3,>=2.3.0->tensorflow>=2.1.2->modelci==1.0.0) (4.1.1)\nRequirement already satisfied: pyasn1-modules>=0.2.1 in /home/sherry/project/miniconda3/envs/modelci/lib/python3.7/site-packages (from google-auth<2,>=1.6.3->tensorboard<3,>=2.3.0->tensorflow>=2.1.2->modelci==1.0.0) (0.2.8)\nRequirement already satisfied: importlib-metadata>=0.12 in /home/sherry/project/miniconda3/envs/modelci/lib/python3.7/site-packages (from pytest>=5.4.1->modelci==1.0.0) (2.0.0)\nRequirement already satisfied: google-auth<2,>=1.6.3 in /home/sherry/project/miniconda3/envs/modelci/lib/python3.7/site-packages (from tensorboard<3,>=2.3.0->tensorflow>=2.1.2->modelci==1.0.0) (1.23.0)\nRequirement already satisfied: requests-oauthlib>=0.7.0 in /home/sherry/project/miniconda3/envs/modelci/lib/python3.7/site-packages (from google-auth-oauthlib<0.5,>=0.4.1->tensorboard<3,>=2.3.0->tensorflow>=2.1.2->modelci==1.0.0) (1.3.0)\nRequirement already satisfied: pyasn1>=0.1.3 in /home/sherry/project/miniconda3/envs/modelci/lib/python3.7/site-packages (from rsa<5,>=3.1.4->google-auth<2,>=1.6.3->tensorboard<3,>=2.3.0->tensorflow>=2.1.2->modelci==1.0.0) (0.4.8)\nRequirement already satisfied: pyasn1>=0.1.3 in /home/sherry/project/miniconda3/envs/modelci/lib/python3.7/site-packages (from rsa<5,>=3.1.4->google-auth<2,>=1.6.3->tensorboard<3,>=2.3.0->tensorflow>=2.1.2->modelci==1.0.0) (0.4.8)\nRequirement already satisfied: requests>=2.23.0 in /home/sherry/project/miniconda3/envs/modelci/lib/python3.7/site-packages (from modelci==1.0.0) (2.23.0)\nRequirement already satisfied: oauthlib>=3.0.0 in /home/sherry/project/miniconda3/envs/modelci/lib/python3.7/site-packages (from requests-oauthlib>=0.7.0->google-auth-oauthlib<0.5,>=0.4.1->tensorboard<3,>=2.3.0->tensorflow>=2.1.2->modelci==1.0.0) (3.1.0)\nBuilding wheels for collected packages: modelci\n  Building wheel for modelci (setup.py): started\n  Building wheel for modelci (setup.py): finished with status 'done'\n  Created wheel for modelci: filename=modelci-1.0.0-py3-none-any.whl size=110338 sha256=410c87c981cf58af5bc5ace03da8368d541f0d2a60e5e462602c5819034a418d\n  Stored in directory: /tmp/pip-ephem-wheel-cache-1tg4zlhc/wheels/be/22/72/e2eb8d0746bb54bfb75f9dd82721af505f0596f85932785f5b\nSuccessfully built modelci\nInstalling collected packages: modelci\nSuccessfully installed modelci-1.0.0\n"
     ]
    }
   ],
   "source": [
    "%%bash\n",
    "# need to install requests package first\n",
    "pip install setuptools requests==2.23.0\n",
    "# then install modelci\n",
    "pip install git+https://github.com/cap-ntu/ML-Model-CI.git@master --use-feature=2020-resolver"
   ]
  },
  {
   "source": [
    "## 2. Start the ModelCI service\n",
    "\n",
    "Firstly, we should set some environmemnt variables, especially mongodb related variables."
   ],
   "cell_type": "markdown",
   "metadata": {}
  },
  {
   "cell_type": "code",
   "execution_count": 2,
   "metadata": {},
   "outputs": [
    {
     "output_type": "stream",
     "name": "stdout",
     "text": [
      "env: MONGO_HOST=localhost\nenv: MONGO_PORT=27017\nenv: MONGO_USERNAME=modelci\nenv: MONGO_PASSWORD=modelci@2020\nenv: MONGO_DB=modelci\nenv: MONGO_AUTH_SOURCE=modelci\nenv: BACKEND_CORS_ORIGINS=\"http://localhost,http://localhost:3000,http://localhost:8080,https://localhost:3000,https://localhost:8080\"\nenv: PROJECT_NAME=modelci\nenv: SECRET_KEY=2a6c03b9ca06cd8fc3cf506f0ba924cb735f15918d54758426fd7282366a5e19\n"
     ]
    }
   ],
   "source": [
    "# set environment variables \n",
    "%env MONGO_HOST=localhost\n",
    "%env MONGO_PORT=27017\n",
    "%env MONGO_USERNAME=modelci\n",
    "%env MONGO_PASSWORD=modelci@2020\n",
    "%env MONGO_DB=modelci\n",
    "%env MONGO_AUTH_SOURCE=modelci\n",
    "%env BACKEND_CORS_ORIGINS=\"http://localhost,http://localhost:3000,http://localhost:8080,https://localhost:3000,https://localhost:8080\"\n",
    "%env PROJECT_NAME=modelci\n",
    "%env SECRET_KEY=2a6c03b9ca06cd8fc3cf506f0ba924cb735f15918d54758426fd7282366a5e19"
   ]
  },
  {
   "source": [
    "Then start the modelci service by following command:"
   ],
   "cell_type": "markdown",
   "metadata": {}
  },
  {
   "cell_type": "code",
   "execution_count": 3,
   "metadata": {},
   "outputs": [
    {
     "output_type": "stream",
     "name": "stderr",
     "text": [
      "2020-11-24 15:31:25.233664: I tensorflow/stream_executor/platform/default/dso_loader.cc:48] Successfully opened dynamic library libcudart.so.10.1\n2020-11-24 15:31:32,443 - ml-modelci Docker Container Manager - INFO - Container name=mongo-25975 stared\n2020-11-24 15:31:33,523 - ml-modelci Docker Container Manager - INFO - Container name=cadvisor-8488 started.\n2020-11-24 15:31:35,900 - ml-modelci Docker Container Manager - INFO - Container name=dcgm-exporter-7678 started.\n2020-11-24 15:31:37,025 - ml-modelci Docker Container Manager - INFO - gpu-metrics-exporter-67720 stared\n2020-11-24 15:31:37,288 - modelci backend - INFO - Uvicorn server listening on 8000\n2020-11-24 15:31:39.156824: I tensorflow/stream_executor/platform/default/dso_loader.cc:48] Successfully opened dynamic library libcudart.so.10.1\nINFO:     Started server process [66398]\nINFO:     Waiting for application startup.\nINFO:     Application startup complete.\nINFO:     Uvicorn running on http://127.0.0.1:8000 (Press CTRL+C to quit)\nINFO:     Shutting down\nINFO:     Waiting for application shutdown.\nINFO:     Application shutdown complete.\nINFO:     Finished server process [66398]\n"
     ]
    }
   ],
   "source": [
    "%%bash\n",
    "modelci start"
   ]
  },
  {
   "source": [
    "## 2. Register ResNet50 Model\n"
   ],
   "cell_type": "markdown",
   "metadata": {}
  },
  {
   "source": [
    "Firstly, we load pre-trained resnet50 model from torchvision, you can refer to <https://pytorch.org/docs/stable/torchvision/models.html> for more examples of pretrained models."
   ],
   "cell_type": "markdown",
   "metadata": {}
  },
  {
   "cell_type": "code",
   "execution_count": 4,
   "metadata": {},
   "outputs": [],
   "source": [
    "# load resnet50 model from torchvision\n",
    "from torchvision import models\n",
    "model = models.resnet50(pretrained=True)"
   ]
  },
  {
   "source": [
    "Then we register this model into ModelHub"
   ],
   "cell_type": "markdown",
   "metadata": {}
  },
  {
   "cell_type": "code",
   "execution_count": 5,
   "metadata": {},
   "outputs": [
    {
     "output_type": "stream",
     "name": "stderr",
     "text": [
      "2020-11-24 15:38:39,221 - converter - INFO - Use cached model\n",
      "2020-11-24 15:38:39,224 - converter - INFO - Use cached model\n"
     ]
    }
   ],
   "source": [
    "from modelci.hub.manager import register_model\n",
    "from modelci.types.bo import Framework, IOShape, ModelVersion,Engine\n",
    "from modelci.types.trtis_objects import ModelInputFormat\n",
    "# set model input and output formats\n",
    "inputs = [IOShape([-1, 3, 224, 224], dtype=float, name='INPUT__0', format=ModelInputFormat.FORMAT_NCHW)]\n",
    "outputs = [IOShape([-1, 1000], dtype=float, name='probs')]\n",
    "# register the model\n",
    "register_model(\n",
    "    model,\n",
    "    dataset='imagenet',\n",
    "    acc=0.76,\n",
    "    task='image classification',\n",
    "    inputs=inputs,\n",
    "    outputs=outputs,\n",
    "    architecture='ResNet50',\n",
    "    framework=Framework.PYTORCH,\n",
    "    version=ModelVersion('2')\n",
    ")"
   ]
  },
  {
   "source": [
    "## 3. Retrieve Models\n",
    "By default, Converter will automatically convert registered models into optimized formats,PyTorch model can be converted to TorchScipt and ONNX formats, so we can retrieve two models from ModelHub."
   ],
   "cell_type": "markdown",
   "metadata": {}
  },
  {
   "cell_type": "code",
   "execution_count": 6,
   "metadata": {},
   "outputs": [],
   "source": [
    "# search for model\n",
    "from modelci.hub.manager import retrieve_model\n",
    "retrieved_models = retrieve_model(\n",
    "        architecture_name = 'ResNet50',\n",
    "        framework = Framework.PYTORCH,\n",
    "        version=ModelVersion('2')\n",
    ")"
   ]
  },
  {
   "cell_type": "code",
   "execution_count": 7,
   "metadata": {},
   "outputs": [
    {
     "output_type": "execute_result",
     "data": {
      "text/plain": [
       "[<modelci.types.bo.model_bo.ModelBO at 0x7fd6907201d0>,\n",
       " <modelci.types.bo.model_bo.ModelBO at 0x7fd6e0cc8b10>]"
      ]
     },
     "metadata": {},
     "execution_count": 7
    }
   ],
   "source": [
    "retrieved_models"
   ]
  },
  {
   "source": [
    "We can compare detatiled information of these two models"
   ],
   "cell_type": "markdown",
   "metadata": {}
  },
  {
   "cell_type": "code",
   "execution_count": 8,
   "metadata": {},
   "outputs": [
    {
     "output_type": "execute_result",
     "data": {
      "text/plain": [
       "{'_id': '5fbcb8810f85b166265ea94d',\n",
       " 'name': 'ResNet50',\n",
       " 'framework': <Framework.PYTORCH: 1>,\n",
       " 'engine': <Engine.TORCHSCRIPT: 2>,\n",
       " 'version': <modelci.types.bo.model_objects.ModelVersion at 0x7fd690720990>,\n",
       " 'dataset': 'imagenet',\n",
       " 'acc': 0.76,\n",
       " 'task': 'image classification',\n",
       " 'inputs': [<modelci.types.bo.model_objects.IOShape at 0x7fd690720110>],\n",
       " 'outputs': [<modelci.types.bo.model_objects.IOShape at 0x7fd690720710>],\n",
       " 'weight': <modelci.types.bo.model_objects.Weight at 0x7fd690720890>,\n",
       " 'profile_result': None,\n",
       " 'status': <Status.UNKNOWN: 0>,\n",
       " 'creator': 'sherry',\n",
       " 'create_time': datetime.datetime(2020, 11, 24, 15, 38, 38, 594000)}"
      ]
     },
     "metadata": {},
     "execution_count": 8
    }
   ],
   "source": [
    "retrieved_models[0].__dict__"
   ]
  },
  {
   "cell_type": "code",
   "execution_count": 9,
   "metadata": {},
   "outputs": [
    {
     "output_type": "execute_result",
     "data": {
      "text/plain": [
       "{'_id': '5fbcb8830f85b166265eaad7',\n",
       " 'name': 'ResNet50',\n",
       " 'framework': <Framework.PYTORCH: 1>,\n",
       " 'engine': <Engine.ONNX: 3>,\n",
       " 'version': <modelci.types.bo.model_objects.ModelVersion at 0x7fd6907a3b10>,\n",
       " 'dataset': 'imagenet',\n",
       " 'acc': 0.76,\n",
       " 'task': 'image classification',\n",
       " 'inputs': [<modelci.types.bo.model_objects.IOShape at 0x7fd6907f2250>],\n",
       " 'outputs': [<modelci.types.bo.model_objects.IOShape at 0x7fd6e0cc8d90>],\n",
       " 'weight': <modelci.types.bo.model_objects.Weight at 0x7fd6e0cc8d10>,\n",
       " 'profile_result': None,\n",
       " 'status': <Status.UNKNOWN: 0>,\n",
       " 'creator': 'sherry',\n",
       " 'create_time': datetime.datetime(2020, 11, 24, 15, 38, 38, 594000)}"
      ]
     },
     "metadata": {},
     "execution_count": 9
    }
   ],
   "source": [
    "retrieved_models[1].__dict__"
   ]
  },
  {
   "source": [
    "## 4. Convert models\n",
    "We can convert models mannually. \n",
    "\n",
    "You can refer to <https://github.com/cap-ntu/ML-Model-CI/blob/master/docs/tutorial/convert.md> for more details.\n",
    "\n",
    "In the following example, we will convert ONNX model into TensorRT format."
   ],
   "cell_type": "markdown",
   "metadata": {}
  },
  {
   "cell_type": "code",
   "execution_count": 10,
   "metadata": {},
   "outputs": [],
   "source": [
    "from modelci.hub.converter import TRTConverter\n",
    "from modelci.hub.utils import generate_path\n",
    "from modelci.types.bo import IOShape\n",
    "\n",
    "# set model input and output formats\n",
    "inputs = [IOShape([-1, 3, 224, 224], dtype=float, name='INPUT__0', format=ModelInputFormat.FORMAT_NCHW)]\n",
    "outputs = [IOShape([-1, 1000], dtype=float, name='probs')]"
   ]
  },
  {
   "cell_type": "code",
   "execution_count": 11,
   "metadata": {},
   "outputs": [
    {
     "output_type": "execute_result",
     "data": {
      "text/plain": [
       "PosixPath('/home/sherry/.modelci/ResNet50/pytorch-onnx/2.onnx')"
      ]
     },
     "metadata": {},
     "execution_count": 11
    }
   ],
   "source": [
    "# get ONNX model saved path\n",
    "onnx_path = retrieved_models[1].saved_path\n",
    "onnx_path"
   ]
  },
  {
   "cell_type": "code",
   "execution_count": 12,
   "metadata": {},
   "outputs": [
    {
     "output_type": "execute_result",
     "data": {
      "text/plain": [
       "PosixPath('/home/sherry/.modelci/ResNet50/pytorch-trt/2')"
      ]
     },
     "metadata": {},
     "execution_count": 12
    }
   ],
   "source": [
    "# set TensorRT format model save path\n",
    "save_path = generate_path(\n",
    "    model_name='ResNet50', framework=Framework.PYTORCH,engine=Engine.TRT,version=2\n",
    ")\n",
    "save_path"
   ]
  },
  {
   "cell_type": "code",
   "execution_count": 13,
   "metadata": {},
   "outputs": [
    {
     "output_type": "stream",
     "name": "stdout",
     "text": [
      "Loading ONNX file from path /home/sherry/.modelci/ResNet50/pytorch-onnx/2.onnx...\n"
     ]
    },
    {
     "output_type": "execute_result",
     "data": {
      "text/plain": [
       "True"
      ]
     },
     "metadata": {},
     "execution_count": 13
    }
   ],
   "source": [
    "from modelci.hub.converter import PyTorchConverter\n",
    "TRTConverter.from_onnx(onnx_path, save_path, inputs=inputs, outputs=outputs)"
   ]
  },
  {
   "source": [
    "## 5.Stop the ModelCI service"
   ],
   "cell_type": "markdown",
   "metadata": {}
  },
  {
   "cell_type": "code",
   "execution_count": 14,
   "metadata": {},
   "outputs": [
    {
     "output_type": "stream",
     "name": "stderr",
     "text": [
      "2020-11-24 15:39:58.746586: I tensorflow/stream_executor/platform/default/dso_loader.cc:48] Successfully opened dynamic library libcudart.so.10.1\n2020-11-24 15:40:03,246 - ml-modelci Docker Container Manager - INFO - Container name=gpu-metrics-exporter-67720 stopped.\n2020-11-24 15:40:04,698 - ml-modelci Docker Container Manager - INFO - Container name=dcgm-exporter-7678 stopped.\n2020-11-24 15:40:05,294 - ml-modelci Docker Container Manager - INFO - Container name=cadvisor-8488 stopped.\n2020-11-24 15:40:06,276 - ml-modelci Docker Container Manager - INFO - Container name=mongo-25975 stopped.\n2020-11-24 15:40:06,493 - modelci backend - INFO - The Uvicorn server with pid=68840 stopped.\n"
     ]
    }
   ],
   "source": [
    "%%bash\n",
    "modelci stop"
   ]
  },
  {
   "cell_type": "code",
   "execution_count": 15,
   "metadata": {},
   "outputs": [
    {
     "output_type": "stream",
     "name": "stdout",
     "text": [
      "7f38a9bd32f7\n45a1bcfe0b40\n028f6bdd1f10\n6ca5163efbfc\n"
     ]
    }
   ],
   "source": [
    "%%bash\n",
    "# remove running docker containers\n",
    "docker rm $(docker ps -a -q)"
   ]
  }
 ]
}