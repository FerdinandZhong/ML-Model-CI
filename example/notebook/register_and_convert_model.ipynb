{
 "metadata": {
  "language_info": {
   "codemirror_mode": {
    "name": "ipython",
    "version": 3
   },
   "file_extension": ".py",
   "mimetype": "text/x-python",
   "name": "python",
   "nbconvert_exporter": "python",
   "pygments_lexer": "ipython3",
   "version": "3.7.7-final"
  },
  "orig_nbformat": 2,
  "kernelspec": {
   "name": "python3",
   "display_name": "Python 3.7.7 64-bit",
   "metadata": {
    "interpreter": {
     "hash": "0c75d026a36709949c33144b659cabdafa0b65fd3284cde28b091ceada3d10a7"
    }
   }
  }
 },
 "nbformat": 4,
 "nbformat_minor": 2,
 "cells": [
  {
   "source": [
    "# Registering and Converting model using ML-ModelCI Tutorial\n",
    "\n",
    "This tutorial loads a pretrained resnet50 model from torchvision, then register this model into modelHub, the converter will automatically convert this PyTorch format model into 2 model : a Open Neural Network eXchange (ONNX) format model and a TorchScipt format model, then the ONNX format model will be mannually converted into TensorRT format.\n",
    "\n",
    "## 1. Start the ModelCI service\n",
    "\n",
    "Firstly, we should set some environmemnt variables, especially mongodb related variables."
   ],
   "cell_type": "markdown",
   "metadata": {}
  },
  {
   "cell_type": "code",
   "execution_count": 1,
   "metadata": {},
   "outputs": [
    {
     "output_type": "stream",
     "name": "stdout",
     "text": [
      "env: MONGO_HOST=localhost\nenv: MONGO_PORT=27017\nenv: MONGO_USERNAME=modelci\nenv: MONGO_PASSWORD=modelci@2020\nenv: MONGO_DB=modelci\nenv: MONGO_AUTH_SOURCE=modelci\nenv: BACKEND_CORS_ORIGINS=\"http://localhost,http://localhost:3000,http://localhost:8080,https://localhost:3000,https://localhost:8080\"\nenv: PROJECT_NAME=modelci\nenv: SECRET_KEY=2a6c03b9ca06cd8fc3cf506f0ba924cb735f15918d54758426fd7282366a5e19\n"
     ]
    }
   ],
   "source": [
    "# set environment variables \n",
    "%env MONGO_HOST=localhost\n",
    "%env MONGO_PORT=27017\n",
    "%env MONGO_USERNAME=modelci\n",
    "%env MONGO_PASSWORD=modelci@2020\n",
    "%env MONGO_DB=modelci\n",
    "%env MONGO_AUTH_SOURCE=modelci\n",
    "%env BACKEND_CORS_ORIGINS=\"http://localhost,http://localhost:3000,http://localhost:8080,https://localhost:3000,https://localhost:8080\"\n",
    "%env PROJECT_NAME=modelci\n",
    "%env SECRET_KEY=2a6c03b9ca06cd8fc3cf506f0ba924cb735f15918d54758426fd7282366a5e19"
   ]
  },
  {
   "source": [
    "Then start the modelci service by following command:"
   ],
   "cell_type": "markdown",
   "metadata": {}
  },
  {
   "cell_type": "code",
   "execution_count": 2,
   "metadata": {},
   "outputs": [
    {
     "output_type": "stream",
     "name": "stderr",
     "text": [
      "2020-11-22 22:06:58,240 - ml-modelci Docker Container Manager - INFO - Container name=mongo-48933 stared\n2020-11-22 22:06:59,464 - ml-modelci Docker Container Manager - INFO - Container name=cadvisor-11415 started.\n2020-11-22 22:07:01,955 - ml-modelci Docker Container Manager - INFO - Container name=dcgm-exporter-61182 started.\n2020-11-22 22:07:03,020 - ml-modelci Docker Container Manager - INFO - gpu-metrics-exporter-40241 stared\n2020-11-22 22:07:03,221 - modelci backend - INFO - Uvicorn server listening on 8000\nOMP: Error #13: Assertion failure at z_Linux_util.cpp(2338).\nOMP: Hint Please submit a bug report with this message, compile and run commands used, and machine configuration info including native compiler and operating system versions. Faster response will be obtained by including all program sources. For information on submitting this issue, please see http://www.intel.com/software/products/support/.\n"
     ]
    }
   ],
   "source": [
    "%%bash\n",
    "modelci start"
   ]
  },
  {
   "source": [
    "## 2. Register ResNet50 Model\n"
   ],
   "cell_type": "markdown",
   "metadata": {}
  },
  {
   "source": [
    "Firstly, we load pre-trained resnet50 model from torchvision, you can refer to <https://pytorch.org/docs/stable/torchvision/models.html> for more examples of pretrained models."
   ],
   "cell_type": "markdown",
   "metadata": {}
  },
  {
   "cell_type": "code",
   "execution_count": 3,
   "metadata": {},
   "outputs": [],
   "source": [
    "# load resnet50 model from torchvision\n",
    "from torchvision import models\n",
    "model = models.resnet50(pretrained=True)"
   ]
  },
  {
   "source": [
    "Then we register this model into ModelHub"
   ],
   "cell_type": "markdown",
   "metadata": {}
  },
  {
   "cell_type": "code",
   "execution_count": 4,
   "metadata": {},
   "outputs": [
    {
     "output_type": "stream",
     "name": "stderr",
     "text": [
      "2020-11-22 22:08:08,373 - converter - INFO - Use cached model\n",
      "2020-11-22 22:08:08,376 - converter - INFO - Use cached model\n"
     ]
    }
   ],
   "source": [
    "from modelci.hub.manager import register_model\n",
    "from modelci.types.bo import Framework, IOShape, ModelVersion,Engine\n",
    "from modelci.types.trtis_objects import ModelInputFormat\n",
    "# set model input and output formats\n",
    "inputs = [IOShape([-1, 3, 224, 224], dtype=float, name='INPUT__0', format=ModelInputFormat.FORMAT_NCHW)]\n",
    "outputs = [IOShape([-1, 1000], dtype=float, name='probs')]\n",
    "# register the model\n",
    "register_model(\n",
    "    model,\n",
    "    dataset='imagenet',\n",
    "    acc=0.76,\n",
    "    task='image classification',\n",
    "    inputs=inputs,\n",
    "    outputs=outputs,\n",
    "    architecture='ResNet50',\n",
    "    framework=Framework.PYTORCH,\n",
    "    version=ModelVersion('2')\n",
    ")"
   ]
  },
  {
   "source": [
    "## 3. Retrieve Models\n",
    "By default, Converter will automatically convert registered models into optimized formats,PyTorch model can be converted to TorchScipt and ONNX formats, so we can retrieve two models from ModelHub."
   ],
   "cell_type": "markdown",
   "metadata": {}
  },
  {
   "cell_type": "code",
   "execution_count": 5,
   "metadata": {},
   "outputs": [],
   "source": [
    "# search for model\n",
    "from modelci.hub.manager import retrieve_model\n",
    "retrieved_models = retrieve_model(\n",
    "        architecture_name = 'ResNet50',\n",
    "        framework = Framework.PYTORCH,\n",
    "        version=ModelVersion('2')\n",
    ")"
   ]
  },
  {
   "cell_type": "code",
   "execution_count": 6,
   "metadata": {},
   "outputs": [
    {
     "output_type": "execute_result",
     "data": {
      "text/plain": [
       "[<modelci.types.bo.model_bo.ModelBO at 0x7f92bc623510>,\n",
       " <modelci.types.bo.model_bo.ModelBO at 0x7f93053c6a10>]"
      ]
     },
     "metadata": {},
     "execution_count": 6
    }
   ],
   "source": [
    "retrieved_models"
   ]
  },
  {
   "source": [
    "We can compare detatiled information of these two models"
   ],
   "cell_type": "markdown",
   "metadata": {}
  },
  {
   "cell_type": "code",
   "execution_count": 7,
   "metadata": {},
   "outputs": [
    {
     "output_type": "execute_result",
     "data": {
      "text/plain": [
       "{'_id': '5fba70ca215155fe3ddf0215',\n",
       " 'name': 'ResNet50',\n",
       " 'framework': <Framework.PYTORCH: 1>,\n",
       " 'engine': <Engine.TORCHSCRIPT: 2>,\n",
       " 'version': <modelci.types.bo.model_objects.ModelVersion at 0x7f92bc623b10>,\n",
       " 'dataset': 'imagenet',\n",
       " 'acc': 0.76,\n",
       " 'task': 'image classification',\n",
       " 'inputs': [<modelci.types.bo.model_objects.IOShape at 0x7f92bc623910>],\n",
       " 'outputs': [<modelci.types.bo.model_objects.IOShape at 0x7f92bc6237d0>],\n",
       " 'weight': <modelci.types.bo.model_objects.Weight at 0x7f92bc623250>,\n",
       " 'profile_result': None,\n",
       " 'status': <Status.UNKNOWN: 0>,\n",
       " 'creator': 'sherry',\n",
       " 'create_time': datetime.datetime(2020, 11, 22, 22, 8, 7, 822000)}"
      ]
     },
     "metadata": {},
     "execution_count": 7
    }
   ],
   "source": [
    "retrieved_models[0].__dict__"
   ]
  },
  {
   "cell_type": "code",
   "execution_count": 8,
   "metadata": {},
   "outputs": [
    {
     "output_type": "execute_result",
     "data": {
      "text/plain": [
       "{'_id': '5fba70cc215155fe3ddf039f',\n",
       " 'name': 'ResNet50',\n",
       " 'framework': <Framework.PYTORCH: 1>,\n",
       " 'engine': <Engine.ONNX: 3>,\n",
       " 'version': <modelci.types.bo.model_objects.ModelVersion at 0x7f92bc624610>,\n",
       " 'dataset': 'imagenet',\n",
       " 'acc': 0.76,\n",
       " 'task': 'image classification',\n",
       " 'inputs': [<modelci.types.bo.model_objects.IOShape at 0x7f92bc5a7c10>],\n",
       " 'outputs': [<modelci.types.bo.model_objects.IOShape at 0x7f92bc5a7510>],\n",
       " 'weight': <modelci.types.bo.model_objects.Weight at 0x7f93053c68d0>,\n",
       " 'profile_result': None,\n",
       " 'status': <Status.UNKNOWN: 0>,\n",
       " 'creator': 'sherry',\n",
       " 'create_time': datetime.datetime(2020, 11, 22, 22, 8, 7, 822000)}"
      ]
     },
     "metadata": {},
     "execution_count": 8
    }
   ],
   "source": [
    "retrieved_models[1].__dict__"
   ]
  },
  {
   "source": [
    "## 4. Convert models\n",
    "We can convert models mannually. \n",
    "\n",
    "You can refer to <https://github.com/cap-ntu/ML-Model-CI/blob/master/docs/tutorial/convert.md> for more details.\n",
    "\n",
    "In the following example, we will convert ONNX model into TensorRT format."
   ],
   "cell_type": "markdown",
   "metadata": {}
  },
  {
   "cell_type": "code",
   "execution_count": 9,
   "metadata": {},
   "outputs": [],
   "source": [
    "from modelci.hub.converter import TRTConverter\n",
    "from modelci.hub.utils import generate_path\n",
    "from modelci.types.bo import IOShape\n",
    "\n",
    "# set model input and output formats\n",
    "inputs = [IOShape([-1, 3, 224, 224], dtype=float, name='INPUT__0', format=ModelInputFormat.FORMAT_NCHW)]\n",
    "outputs = [IOShape([-1, 1000], dtype=float, name='probs')]"
   ]
  },
  {
   "cell_type": "code",
   "execution_count": 10,
   "metadata": {},
   "outputs": [
    {
     "output_type": "execute_result",
     "data": {
      "text/plain": [
       "PosixPath('/home/sherry/.modelci/ResNet50/pytorch-onnx/2.onnx')"
      ]
     },
     "metadata": {},
     "execution_count": 10
    }
   ],
   "source": [
    "# get ONNX model saved path\n",
    "onnx_path = retrieved_models[1].saved_path\n",
    "onnx_path"
   ]
  },
  {
   "cell_type": "code",
   "execution_count": 11,
   "metadata": {},
   "outputs": [
    {
     "output_type": "execute_result",
     "data": {
      "text/plain": [
       "PosixPath('/home/sherry/.modelci/ResNet50/pytorch-trt/2')"
      ]
     },
     "metadata": {},
     "execution_count": 11
    }
   ],
   "source": [
    "# set TensorRT format model save path\n",
    "save_path = generate_path(\n",
    "    model_name='ResNet50', framework=Framework.PYTORCH,engine=Engine.TRT,version=2\n",
    ")\n",
    "save_path"
   ]
  },
  {
   "cell_type": "code",
   "execution_count": 12,
   "metadata": {},
   "outputs": [
    {
     "output_type": "stream",
     "name": "stdout",
     "text": [
      "Loading ONNX file from path /home/sherry/.modelci/ResNet50/pytorch-onnx/2.onnx...\n"
     ]
    },
    {
     "output_type": "execute_result",
     "data": {
      "text/plain": [
       "True"
      ]
     },
     "metadata": {},
     "execution_count": 12
    }
   ],
   "source": [
    "from modelci.hub.converter import PyTorchConverter\n",
    "TRTConverter.from_onnx(onnx_path, save_path, inputs=inputs, outputs=outputs)"
   ]
  },
  {
   "source": [
    "## 5.Stop the ModelCI service"
   ],
   "cell_type": "markdown",
   "metadata": {}
  },
  {
   "cell_type": "code",
   "execution_count": 13,
   "metadata": {},
   "outputs": [
    {
     "output_type": "stream",
     "name": "stderr",
     "text": [
      "2020-11-22 22:09:32,839 - ml-modelci Docker Container Manager - INFO - Container name=gpu-metrics-exporter-40241 stopped.\n2020-11-22 22:09:33,971 - ml-modelci Docker Container Manager - INFO - Container name=dcgm-exporter-61182 stopped.\n2020-11-22 22:09:34,602 - ml-modelci Docker Container Manager - INFO - Container name=cadvisor-11415 stopped.\n2020-11-22 22:09:35,436 - ml-modelci Docker Container Manager - INFO - Container name=mongo-48933 stopped.\n2020-11-22 22:09:35,554 - modelci backend - WARNING - No process is listening on 8000\n"
     ]
    }
   ],
   "source": [
    "%%bash\n",
    "modelci stop"
   ]
  },
  {
   "cell_type": "code",
   "execution_count": 14,
   "metadata": {},
   "outputs": [
    {
     "output_type": "stream",
     "name": "stdout",
     "text": [
      "8e4a54f19bfa\n6682db491467\n731a16a827d1\n23b276f57d53\n"
     ]
    }
   ],
   "source": [
    "%%bash\n",
    "# remove running docker containers\n",
    "docker rm $(docker ps -a -q)"
   ]
  }
 ]
}